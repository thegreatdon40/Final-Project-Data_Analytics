{
 "cells": [
  {
   "cell_type": "code",
   "execution_count": null,
   "metadata": {},
   "outputs": [],
   "source": [
    "# Updating regions where they are null\n",
    "sales.loc[2168, \"Region\"] = \"Midwest\" # South Dakota\n",
    "sales.loc[2705, \"Region\"] = \"Northeast\" # Connecticut\n",
    "sales.loc[3621, \"Region\"] = \"Midwest\" # South Dakota\n",
    "sales.loc[7281, \"Region\"] = \"South\" # West Virginia\n",
    "sales.loc[9642, \"Region\"] = \"Northeast\" # Maine"
   ]
  }
 ],
 "metadata": {
  "kernelspec": {
   "display_name": "Python 3",
   "language": "python",
   "name": "python3"
  },
  "language_info": {
   "name": "python",
   "version": "3.13.1"
  }
 },
 "nbformat": 4,
 "nbformat_minor": 2
}
