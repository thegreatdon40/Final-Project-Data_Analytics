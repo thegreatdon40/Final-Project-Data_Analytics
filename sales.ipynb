{
 "cells": [
  {
   "cell_type": "code",
   "execution_count": 25,
   "metadata": {},
   "outputs": [],
   "source": [
    "import pandas as pd\n",
    "import numpy as np\n",
    "import seaborn as sns"
   ]
  },
  {
   "cell_type": "code",
   "execution_count": 4,
   "metadata": {},
   "outputs": [],
   "source": [
    "sales = pd.read_csv(\"AdidasUSSalesData.csv\") # import dataframe\n",
    "sales.columns = sales.columns.str.replace(\" \", \"\") # delete spaces"
   ]
  },
  {
   "cell_type": "code",
   "execution_count": 10,
   "metadata": {},
   "outputs": [],
   "source": [
    "# Turn each of the objects into floats so they can be worked with\n",
    "floatConvert = [\"PriceperUnit\", \"UnitsSold\", \"TotalSales\", \"OperatingProfit\"]\n",
    "for col in floatConvert:\n",
    "    sales[col] = sales[col].astype(str).str.strip().str.replace(\"$\", \"\", regex=False)\n",
    "    sales[col] = sales[col].astype(str).str.strip().str.replace(\",\", \"\", regex=False)\n",
    "    sales[col] = pd.to_numeric(sales[col], errors=\"coerce\")"
   ]
  },
  {
   "cell_type": "code",
   "execution_count": 12,
   "metadata": {},
   "outputs": [],
   "source": [
    "sales[\"PriceperUnit\"] = sales[\"PriceperUnit\"].fillna(sales[\"TotalSales\"] / sales[\"UnitsSold\"])\n",
    "sales[\"UnitsSold\"] = sales[\"UnitsSold\"].fillna(sales[\"TotalSales\"] / sales[\"PriceperUnit\"])\n",
    "sales[\"TotalSales\"] = sales[\"TotalSales\"].fillna(sales[\"PriceperUnit\"] * sales[\"UnitsSold\"])\n",
    "sales[\"OperatingProfit\"] = sales[\"OperatingProfit\"].fillna(sales[\"TotalSales\"] * sales[\"OperatingMargin\"]).round(decimals = 0)"
   ]
  },
  {
   "cell_type": "code",
   "execution_count": 11,
   "metadata": {},
   "outputs": [],
   "source": [
    "# Turn Operating Margin to percent so it can be worked with\n",
    "sales[\"OperatingMargin\"] = sales[\"OperatingMargin\"].str.strip(\"%\").astype(\"float\") / 100"
   ]
  },
  {
   "cell_type": "code",
   "execution_count": 22,
   "metadata": {},
   "outputs": [
    {
     "data": {
      "text/html": [
       "<div>\n",
       "<style scoped>\n",
       "    .dataframe tbody tr th:only-of-type {\n",
       "        vertical-align: middle;\n",
       "    }\n",
       "\n",
       "    .dataframe tbody tr th {\n",
       "        vertical-align: top;\n",
       "    }\n",
       "\n",
       "    .dataframe thead th {\n",
       "        text-align: right;\n",
       "    }\n",
       "</style>\n",
       "<table border=\"1\" class=\"dataframe\">\n",
       "  <thead>\n",
       "    <tr style=\"text-align: right;\">\n",
       "      <th></th>\n",
       "      <th>Retailer</th>\n",
       "      <th>RetailerID</th>\n",
       "      <th>InvoiceDate</th>\n",
       "      <th>Region</th>\n",
       "      <th>State</th>\n",
       "      <th>City</th>\n",
       "      <th>Product</th>\n",
       "      <th>PriceperUnit</th>\n",
       "      <th>UnitsSold</th>\n",
       "      <th>TotalSales</th>\n",
       "      <th>OperatingProfit</th>\n",
       "      <th>OperatingMargin</th>\n",
       "      <th>SalesMethod</th>\n",
       "    </tr>\n",
       "  </thead>\n",
       "  <tbody>\n",
       "    <tr>\n",
       "      <th>9647</th>\n",
       "      <td>Foot Locker</td>\n",
       "      <td>1185732</td>\n",
       "      <td>NaN</td>\n",
       "      <td>Northeast</td>\n",
       "      <td>Connecticut</td>\n",
       "      <td>Hartford</td>\n",
       "      <td>Women's Apparel</td>\n",
       "      <td>26.0</td>\n",
       "      <td>72.0</td>\n",
       "      <td>1872.0</td>\n",
       "      <td>880.0</td>\n",
       "      <td>0.47</td>\n",
       "      <td>Outlet</td>\n",
       "    </tr>\n",
       "  </tbody>\n",
       "</table>\n",
       "</div>"
      ],
      "text/plain": [
       "         Retailer  RetailerID InvoiceDate     Region        State      City  \\\n",
       "9647  Foot Locker     1185732         NaN  Northeast  Connecticut  Hartford   \n",
       "\n",
       "              Product  PriceperUnit  UnitsSold  TotalSales  OperatingProfit  \\\n",
       "9647  Women's Apparel          26.0       72.0      1872.0            880.0   \n",
       "\n",
       "      OperatingMargin SalesMethod  \n",
       "9647             0.47      Outlet  "
      ]
     },
     "execution_count": 22,
     "metadata": {},
     "output_type": "execute_result"
    }
   ],
   "source": [
    "# View null rows\n",
    "null_rows = sales[sales.isna().any(axis=1)]\n",
    "null_rows"
   ]
  },
  {
   "cell_type": "code",
   "execution_count": 24,
   "metadata": {},
   "outputs": [
    {
     "data": {
      "text/plain": [
       "Retailer                 Walmart\n",
       "RetailerID               1197831\n",
       "InvoiceDate             9/9/2020\n",
       "Region                     South\n",
       "State                      Texas\n",
       "City                     Houston\n",
       "Product            Men's Apparel\n",
       "PriceperUnit               450.0\n",
       "UnitsSold                  625.0\n",
       "TotalSales              281250.0\n",
       "OperatingProfit          84375.0\n",
       "OperatingMargin              0.3\n",
       "SalesMethod               Outlet\n",
       "Name: 954, dtype: object"
      ]
     },
     "execution_count": 24,
     "metadata": {},
     "output_type": "execute_result"
    }
   ],
   "source": [
    "# Check specific rows for nulls\n",
    "#sales.iloc[954] # Price Per Unit\n",
    "#sales.iloc[485] # Units Sold\n",
    "#sales.iloc[2228] # Total Sales\n",
    "#sales.iloc[1898] # Operating Profit"
   ]
  },
  {
   "cell_type": "code",
   "execution_count": 21,
   "metadata": {},
   "outputs": [],
   "source": [
    "# Updating regions where they are null\n",
    "sales.loc[2168, \"Region\"] = \"Midwest\" # South Dakota\n",
    "sales.loc[2705, \"Region\"] = \"Northeast\" # Connecticut\n",
    "sales.loc[3621, \"Region\"] = \"Midwest\" # South Dakota\n",
    "sales.loc[7281, \"Region\"] = \"South\" # West Virginia\n",
    "sales.loc[9642, \"Region\"] = \"Northeast\" # Maine"
   ]
  }
 ],
 "metadata": {
  "kernelspec": {
   "display_name": "Python 3",
   "language": "python",
   "name": "python3"
  },
  "language_info": {
   "codemirror_mode": {
    "name": "ipython",
    "version": 3
   },
   "file_extension": ".py",
   "mimetype": "text/x-python",
   "name": "python",
   "nbconvert_exporter": "python",
   "pygments_lexer": "ipython3",
   "version": "3.13.1"
  }
 },
 "nbformat": 4,
 "nbformat_minor": 2
}
